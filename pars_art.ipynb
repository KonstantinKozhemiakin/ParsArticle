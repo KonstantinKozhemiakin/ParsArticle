{
 "cells": [
  {
   "cell_type": "code",
   "execution_count": 4,
   "id": "82e7f139-b199-4065-8214-d396458fc961",
   "metadata": {},
   "outputs": [],
   "source": [
    "import openai\n",
    "import pandas as pd\n",
    "import json\n",
    "\n",
    "file = open('config.json', 'r')\n",
    "config = json.load(file)\n",
    "openai.api_key = config['openai']\n"
   ]
  },
  {
   "cell_type": "code",
   "execution_count": 6,
   "id": "180c9a6b-88bd-4086-9338-3a62a7820945",
   "metadata": {},
   "outputs": [
    {
     "name": "stdout",
     "output_type": "stream",
     "text": [
      "Помилка: Rate limit reached for default-text-davinci-002 in organization org-IFMILUxrdLUgzEnmsbscwqt0 on requests per min. Limit: 3 / min. Please try again in 20s. Contact us through our help center at help.openai.com if you continue to have issues. Please add a payment method to your account to increase your rate limit. Visit https://platform.openai.com/account/billing to add a payment method.\n",
      "Помилка: Rate limit reached for default-text-davinci-002 in organization org-IFMILUxrdLUgzEnmsbscwqt0 on requests per min. Limit: 3 / min. Please try again in 20s. Contact us through our help center at help.openai.com if you continue to have issues. Please add a payment method to your account to increase your rate limit. Visit https://platform.openai.com/account/billing to add a payment method.\n",
      "Помилка: Rate limit reached for default-text-davinci-002 in organization org-IFMILUxrdLUgzEnmsbscwqt0 on requests per min. Limit: 3 / min. Please try again in 20s. Contact us through our help center at help.openai.com if you continue to have issues. Please add a payment method to your account to increase your rate limit. Visit https://platform.openai.com/account/billing to add a payment method.\n"
     ]
    }
   ],
   "source": [
    "def get_gpt3_response(prompt):\n",
    "    try:\n",
    "        response = openai.Completion.create(\n",
    "            engine=\"text-davinci-002\",\n",
    "            prompt=prompt,\n",
    "            max_tokens=150\n",
    "        )\n",
    "        return response['choices'][0]['text'].strip()\n",
    "    except Exception as e:\n",
    "        print(f\"Помилка: {e}\")\n",
    "        return None\n",
    "\n",
    "# Зчитування вхідного файлу Excel\n",
    "input_file = \"input.xlsx\"\n",
    "df = pd.read_excel(input_file)\n",
    "\n",
    "# Новий стовпчик для зберігання відповідей\n",
    "df['art'] = \"\"\n",
    "\n",
    "# Ваш шаблон запиту до GPT-3.5\n",
    "my_prompt = '''Витягни з цього тексту артикули і кількість і дай відповідь у форматі \"артикул; кількість \" без зайвих слів і арт.: '''\n",
    "\n",
    "# Проходження по кожному рядку та виклик GPT-3.5\n",
    "for index, row in df.iterrows():\n",
    "    text_to_process = row['text']\n",
    "    prompt_to_send = my_prompt + text_to_process\n",
    "    response_text = get_gpt3_response(prompt_to_send)\n",
    "    df.at[index, 'art'] = response_text\n",
    "\n",
    "# Запис результатів у новий файл Excel\n",
    "output_file = \"output.xlsx\"\n",
    "df.to_excel(output_file, index=False)"
   ]
  },
  {
   "cell_type": "code",
   "execution_count": 7,
   "id": "696030b9-9c94-4d64-b7a8-6c039ae5fa12",
   "metadata": {},
   "outputs": [
    {
     "name": "stdout",
     "output_type": "stream",
     "text": [
      "Помилка: Rate limit reached for default-gpt-3.5-turbo in organization org-IFMILUxrdLUgzEnmsbscwqt0 on requests per min. Limit: 3 / min. Please try again in 20s. Contact us through our help center at help.openai.com if you continue to have issues. Please add a payment method to your account to increase your rate limit. Visit https://platform.openai.com/account/billing to add a payment method.\n",
      "Помилка: Rate limit reached for default-gpt-3.5-turbo in organization org-IFMILUxrdLUgzEnmsbscwqt0 on requests per min. Limit: 3 / min. Please try again in 20s. Contact us through our help center at help.openai.com if you continue to have issues. Please add a payment method to your account to increase your rate limit. Visit https://platform.openai.com/account/billing to add a payment method.\n",
      "Помилка: Rate limit reached for default-gpt-3.5-turbo in organization org-IFMILUxrdLUgzEnmsbscwqt0 on requests per min. Limit: 3 / min. Please try again in 20s. Contact us through our help center at help.openai.com if you continue to have issues. Please add a payment method to your account to increase your rate limit. Visit https://platform.openai.com/account/billing to add a payment method.\n"
     ]
    }
   ],
   "source": [
    "def get_gpt3_response(prompt):\n",
    "    try:\n",
    "        response = openai.ChatCompletion.create(\n",
    "            model=\"gpt-3.5-turbo\",  # Використовуємо \"gpt-3.5-turbo\"\n",
    "            messages=[\n",
    "                {\"role\": \"system\", \"content\": \"You are a helpful assistant.\"},\n",
    "                {\"role\": \"user\", \"content\": prompt}\n",
    "            ]\n",
    "        )\n",
    "        return response['choices'][0]['message']['content'].strip()\n",
    "    except Exception as e:\n",
    "        print(f\"Помилка: {e}\")\n",
    "        return None\n",
    "\n",
    "# Зчитування вхідного файлу Excel\n",
    "input_file = \"input.xlsx\"\n",
    "df = pd.read_excel(input_file)\n",
    "\n",
    "# Новий стовпчик для зберігання відповідей\n",
    "df['art'] = \"\"\n",
    "\n",
    "# Ваш шаблон запиту до GPT-3.5\n",
    "my_prompt = '''Витягни з цього тексту артикули і кількість і дай відповідь у форматі \"артикул; кількість \" без зайвих слів і арт.: '''\n",
    "\n",
    "# Проходження по кожному рядку та виклик GPT-3.5\n",
    "for index, row in df.iterrows():\n",
    "    text_to_process = row['text']\n",
    "    prompt_to_send = my_prompt + text_to_process\n",
    "    response_text = get_gpt3_response(prompt_to_send)\n",
    "    df.at[index, 'art'] = response_text\n",
    "\n",
    "# Запис результатів у новий файл Excel\n",
    "output_file = \"output.xlsx\"\n",
    "df.to_excel(output_file, index=False)\n"
   ]
  },
  {
   "cell_type": "code",
   "execution_count": null,
   "id": "98b9ef44-5f3e-4b43-8212-7777ed671170",
   "metadata": {},
   "outputs": [],
   "source": []
  }
 ],
 "metadata": {
  "kernelspec": {
   "display_name": "Python 3 (ipykernel)",
   "language": "python",
   "name": "python3"
  },
  "language_info": {
   "codemirror_mode": {
    "name": "ipython",
    "version": 3
   },
   "file_extension": ".py",
   "mimetype": "text/x-python",
   "name": "python",
   "nbconvert_exporter": "python",
   "pygments_lexer": "ipython3",
   "version": "3.11.3"
  }
 },
 "nbformat": 4,
 "nbformat_minor": 5
}
